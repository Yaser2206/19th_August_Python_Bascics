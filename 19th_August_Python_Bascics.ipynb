{
  "nbformat": 4,
  "nbformat_minor": 0,
  "metadata": {
    "colab": {
      "provenance": []
    },
    "kernelspec": {
      "name": "python3",
      "display_name": "Python 3"
    },
    "language_info": {
      "name": "python"
    }
  },
  "cells": [
    {
      "cell_type": "markdown",
      "source": [
        "1. Declare two variables, `x` and `y`, and assign them integer values.\n",
        "Swap the values of these variables without using any temporary\n",
        "variable."
      ],
      "metadata": {
        "id": "CCjlnIx29I4k"
      }
    },
    {
      "cell_type": "code",
      "execution_count": 1,
      "metadata": {
        "id": "IF2ncBr68dui"
      },
      "outputs": [],
      "source": [
        "x=10"
      ]
    },
    {
      "cell_type": "code",
      "source": [
        "y=20"
      ],
      "metadata": {
        "id": "VFDXuPGJ8wCQ"
      },
      "execution_count": 2,
      "outputs": []
    },
    {
      "cell_type": "code",
      "source": [
        "x,y=y,x"
      ],
      "metadata": {
        "id": "FvSLqjEs8xKy"
      },
      "execution_count": 3,
      "outputs": []
    },
    {
      "cell_type": "code",
      "source": [
        "x"
      ],
      "metadata": {
        "colab": {
          "base_uri": "https://localhost:8080/"
        },
        "id": "zSxbtFYf9AhX",
        "outputId": "ccbcd8de-5820-469a-bc40-df41583d5e87"
      },
      "execution_count": 4,
      "outputs": [
        {
          "output_type": "execute_result",
          "data": {
            "text/plain": [
              "20"
            ]
          },
          "metadata": {},
          "execution_count": 4
        }
      ]
    },
    {
      "cell_type": "code",
      "source": [
        "y"
      ],
      "metadata": {
        "colab": {
          "base_uri": "https://localhost:8080/"
        },
        "id": "cpgzC_4g9BLq",
        "outputId": "e34ff258-b2b0-418b-f9f7-cd6e3a6fd942"
      },
      "execution_count": 5,
      "outputs": [
        {
          "output_type": "execute_result",
          "data": {
            "text/plain": [
              "10"
            ]
          },
          "metadata": {},
          "execution_count": 5
        }
      ]
    },
    {
      "cell_type": "markdown",
      "source": [],
      "metadata": {
        "id": "HY9pdvMK_cBZ"
      }
    },
    {
      "cell_type": "markdown",
      "source": [
        "2. Create a program that calculates the area of a rectangle. Take the\n",
        "length and width as inputs from the user and store them in variables.\n",
        "Calculate and display the area."
      ],
      "metadata": {
        "id": "F1h3XUBB9LSd"
      }
    },
    {
      "cell_type": "code",
      "source": [
        "length=float(input(\"Enter the Length of the rectangle: \"))\n"
      ],
      "metadata": {
        "colab": {
          "base_uri": "https://localhost:8080/"
        },
        "id": "lEba9Qkx9OM9",
        "outputId": "c0cb14b6-8d2d-43c4-d957-1712839c7e9b"
      },
      "execution_count": 9,
      "outputs": [
        {
          "name": "stdout",
          "output_type": "stream",
          "text": [
            "Enter the Length of the rectangle: 10\n"
          ]
        }
      ]
    },
    {
      "cell_type": "code",
      "source": [
        "width=float(input(\"Enter the width of the rectangle: \"))"
      ],
      "metadata": {
        "colab": {
          "base_uri": "https://localhost:8080/"
        },
        "id": "vh8z0yf59eyT",
        "outputId": "753dab7a-77ee-47a2-d8a2-9d2e2460b44f"
      },
      "execution_count": 19,
      "outputs": [
        {
          "name": "stdout",
          "output_type": "stream",
          "text": [
            "Enter the width of the rectangle: 15\n"
          ]
        }
      ]
    },
    {
      "cell_type": "code",
      "source": [
        "area=length*width"
      ],
      "metadata": {
        "id": "SrV7Yh0k9uqp"
      },
      "execution_count": 21,
      "outputs": []
    },
    {
      "cell_type": "code",
      "source": [
        "area=str(area)\n",
        "\"Area of the rectangle is: \"+area+\"sq. units\""
      ],
      "metadata": {
        "colab": {
          "base_uri": "https://localhost:8080/",
          "height": 35
        },
        "id": "8558j4jd99Kv",
        "outputId": "83730162-9a44-496a-b73b-9d07364bc839"
      },
      "execution_count": 22,
      "outputs": [
        {
          "output_type": "execute_result",
          "data": {
            "text/plain": [
              "'Area of the rectangle is: 150.0sq. units'"
            ],
            "application/vnd.google.colaboratory.intrinsic+json": {
              "type": "string"
            }
          },
          "metadata": {},
          "execution_count": 22
        }
      ]
    },
    {
      "cell_type": "markdown",
      "source": [],
      "metadata": {
        "id": "WNsGBCvp_dck"
      }
    },
    {
      "cell_type": "markdown",
      "source": [
        "3. Write a Python program that converts temperature from Celsius to\n",
        "Fahrenheit. Take the temperature in Celsius as input, store it in a\n",
        "variable, convert it to Fahrenheit, and display the result."
      ],
      "metadata": {
        "id": "1y8HwiPd_ZmN"
      }
    },
    {
      "cell_type": "code",
      "source": [
        "celcius=float(input(\"Enter the Celsius value to be converted to Fahrenheit: \"))"
      ],
      "metadata": {
        "colab": {
          "base_uri": "https://localhost:8080/"
        },
        "id": "6WgyHJ3H_amO",
        "outputId": "37044054-f37e-4864-a9ea-74a92a3296bb"
      },
      "execution_count": 27,
      "outputs": [
        {
          "name": "stdout",
          "output_type": "stream",
          "text": [
            "Enter the Celsius value to be converted to Fahrenheit: 20\n"
          ]
        }
      ]
    },
    {
      "cell_type": "code",
      "source": [
        "fahrenheit=celcius*(9/5)+32"
      ],
      "metadata": {
        "id": "QrerlhdLAQfz"
      },
      "execution_count": 28,
      "outputs": []
    },
    {
      "cell_type": "code",
      "source": [
        "\"The Fahrenheit of given celcius is: \",fahrenheit"
      ],
      "metadata": {
        "colab": {
          "base_uri": "https://localhost:8080/"
        },
        "id": "xz3H9mc7Ah02",
        "outputId": "e1f9199f-8ab2-4d3e-a6cf-6962694a0fb3"
      },
      "execution_count": 29,
      "outputs": [
        {
          "output_type": "execute_result",
          "data": {
            "text/plain": [
              "('The Fahrenheit of given celcius is: ', 68.0)"
            ]
          },
          "metadata": {},
          "execution_count": 29
        }
      ]
    },
    {
      "cell_type": "markdown",
      "source": [
        "TOPIC: String Based Questions"
      ],
      "metadata": {
        "id": "3qWOOT7I8d_7"
      }
    },
    {
      "cell_type": "markdown",
      "source": [
        "1. Write a Python program that takes a string as input and prints the\n",
        "length of the string."
      ],
      "metadata": {
        "id": "yAacLtQT8fFY"
      }
    },
    {
      "cell_type": "code",
      "source": [
        "inputString=input(\"Enter any text: \")"
      ],
      "metadata": {
        "colab": {
          "base_uri": "https://localhost:8080/"
        },
        "id": "I0JRIzE08kBp",
        "outputId": "66ecbdfc-fc13-4e96-ec09-de32d475eb50"
      },
      "execution_count": 1,
      "outputs": [
        {
          "name": "stdout",
          "output_type": "stream",
          "text": [
            "Enter any text: Yaser\n"
          ]
        }
      ]
    },
    {
      "cell_type": "code",
      "source": [
        "lenOfStr=len(inputString)\n",
        "\"The length the String is: \",lenOfStr"
      ],
      "metadata": {
        "colab": {
          "base_uri": "https://localhost:8080/"
        },
        "id": "FDXsSpdI9AAJ",
        "outputId": "c7d9963b-7959-490c-b6e4-ef7b10d9aa47"
      },
      "execution_count": 2,
      "outputs": [
        {
          "output_type": "execute_result",
          "data": {
            "text/plain": [
              "('The length the String is: ', 5)"
            ]
          },
          "metadata": {},
          "execution_count": 2
        }
      ]
    },
    {
      "cell_type": "markdown",
      "source": [
        "2. Create a program that takes a sentence from the user and counts the\n",
        "number of vowels (a, e, i, o, u) in the string."
      ],
      "metadata": {
        "id": "uuhbjYZS9ZAh"
      }
    },
    {
      "cell_type": "code",
      "source": [
        "inputString=input(\"Enter any text: \")"
      ],
      "metadata": {
        "colab": {
          "base_uri": "https://localhost:8080/"
        },
        "id": "Tkgu0bhP9g6F",
        "outputId": "8b108b62-686f-459d-b14a-9fab97633238"
      },
      "execution_count": 3,
      "outputs": [
        {
          "name": "stdout",
          "output_type": "stream",
          "text": [
            "Enter any text: Hi this a simple text and we need to find the count of vovels in this sentence\n"
          ]
        }
      ]
    },
    {
      "cell_type": "code",
      "source": [
        "a=inputString.count('a')\n",
        "e=inputString.count('e')\n",
        "i=inputString.count('i')\n",
        "o=inputString.count('o')\n",
        "u=inputString.count('u')\n",
        "vowels=str(a+e+i+o+u)\n",
        "\"The count of vowels in the inout is: \"+vowels"
      ],
      "metadata": {
        "colab": {
          "base_uri": "https://localhost:8080/",
          "height": 35
        },
        "id": "UiXum_rd9v-Z",
        "outputId": "0d83851b-dcb1-4b76-ddd9-37b68916f185"
      },
      "execution_count": 8,
      "outputs": [
        {
          "output_type": "execute_result",
          "data": {
            "text/plain": [
              "'The count of vovels in the inout is: 23'"
            ],
            "application/vnd.google.colaboratory.intrinsic+json": {
              "type": "string"
            }
          },
          "metadata": {},
          "execution_count": 8
        }
      ]
    },
    {
      "cell_type": "markdown",
      "source": [
        "3. Given a string, reverse the order of characters using string slicing and\n",
        "print the reversed string."
      ],
      "metadata": {
        "id": "8N75D1cn_t3d"
      }
    },
    {
      "cell_type": "code",
      "source": [
        "inputString=input(\"Enter any text: \")"
      ],
      "metadata": {
        "colab": {
          "base_uri": "https://localhost:8080/"
        },
        "id": "PV83K38-_s2B",
        "outputId": "c107ca1a-a001-448c-f22d-8fc0a4a443de"
      },
      "execution_count": 9,
      "outputs": [
        {
          "name": "stdout",
          "output_type": "stream",
          "text": [
            "Enter any text: Yaser\n"
          ]
        }
      ]
    },
    {
      "cell_type": "code",
      "source": [
        "reverseStr=inputString[::-1]\n",
        "\"The reversed string of input is: \"+reverseStr"
      ],
      "metadata": {
        "colab": {
          "base_uri": "https://localhost:8080/",
          "height": 35
        },
        "id": "zbRcbiR6_yUY",
        "outputId": "b550cab2-661d-4e5c-f6b0-74cd2f082bd2"
      },
      "execution_count": 10,
      "outputs": [
        {
          "output_type": "execute_result",
          "data": {
            "text/plain": [
              "'The reversed string of input is: resaY'"
            ],
            "application/vnd.google.colaboratory.intrinsic+json": {
              "type": "string"
            }
          },
          "metadata": {},
          "execution_count": 10
        }
      ]
    },
    {
      "cell_type": "markdown",
      "source": [
        "4. Write a program that takes a string as input and checks if it is a\n",
        "palindrome (reads the same forwards and backwards)."
      ],
      "metadata": {
        "id": "6nZrm1DrADG5"
      }
    },
    {
      "cell_type": "code",
      "source": [
        "inputString=input(\"Enter any text: \")"
      ],
      "metadata": {
        "colab": {
          "base_uri": "https://localhost:8080/"
        },
        "id": "IhxKQssNADxF",
        "outputId": "c95de302-561f-4c4e-8d14-08d5d4cbeb28"
      },
      "execution_count": 11,
      "outputs": [
        {
          "name": "stdout",
          "output_type": "stream",
          "text": [
            "Enter any text: malayalam\n"
          ]
        }
      ]
    },
    {
      "cell_type": "code",
      "source": [
        "palindromeText=inputString[::-1]\n",
        "if(inputString==palindromeText):\n",
        "  print(\"The entered text is a palindrome\")\n",
        "else:\n",
        "  print(\"The text is not a palindrome\")"
      ],
      "metadata": {
        "colab": {
          "base_uri": "https://localhost:8080/"
        },
        "id": "XY9Gf9skAKVJ",
        "outputId": "588b7871-f314-48e3-ac1d-48fa5f696ea2"
      },
      "execution_count": 19,
      "outputs": [
        {
          "output_type": "stream",
          "name": "stdout",
          "text": [
            "The entered text is a palindrome\n"
          ]
        }
      ]
    },
    {
      "cell_type": "markdown",
      "source": [
        "5. Create a program that takes a string as input and removes all the\n",
        "spaces from it. Print the modified string without spaces."
      ],
      "metadata": {
        "id": "rZXIbPSkA3lV"
      }
    },
    {
      "cell_type": "code",
      "source": [
        "inputString=input(\"Enter any text: \")"
      ],
      "metadata": {
        "colab": {
          "base_uri": "https://localhost:8080/"
        },
        "id": "l31fvckUAqU6",
        "outputId": "316746a7-a672-476c-c004-1690f5e7c55d"
      },
      "execution_count": 20,
      "outputs": [
        {
          "name": "stdout",
          "output_type": "stream",
          "text": [
            "Enter any text:   Hi This is a sample to remove all the spaces b/w  \n"
          ]
        }
      ]
    },
    {
      "cell_type": "code",
      "source": [
        "inputString=inputString.replace(\" \",\"\")\n",
        "\"The input without spaces is: \"+inputString"
      ],
      "metadata": {
        "colab": {
          "base_uri": "https://localhost:8080/",
          "height": 35
        },
        "id": "VKXMs3KjAkrq",
        "outputId": "4e4108d4-bf06-4cff-f58d-16fd820d3d58"
      },
      "execution_count": 22,
      "outputs": [
        {
          "output_type": "execute_result",
          "data": {
            "text/plain": [
              "'The input without spaces is: HiThisisasampletoremoveallthespacesb/w'"
            ],
            "application/vnd.google.colaboratory.intrinsic+json": {
              "type": "string"
            }
          },
          "metadata": {},
          "execution_count": 22
        }
      ]
    }
  ]
}